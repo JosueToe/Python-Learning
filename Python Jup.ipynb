{
 "cells": [
  {
   "cell_type": "markdown",
   "metadata": {},
   "source": [
    "# Josue Toledo Note Book For Python"
   ]
  },
  {
   "cell_type": "markdown",
   "metadata": {},
   "source": [
    "LESSON 1 Printing, concatanation and multi line printing"
   ]
  },
  {
   "cell_type": "code",
   "execution_count": null,
   "metadata": {},
   "outputs": [],
   "source": [
    "#print(\"Hello World!!!!!!!!!!\")\n",
    "print(\"I am Iron Man1\")\n",
    "print(\"No, I am Tony Stark1\")\n",
    "print(\"No, I am Poppy1\")\n",
    "# We are running python Strings/Print Function\n",
    "\n",
    "#To have a multi line string use three \"\"\"\n",
    "print(\"\"\"\n",
    "I am Iron Man2.\n",
    "No, I am Tony Stark2.\n",
    "No, I am Poppy2.\"\"\")\n",
    "\n",
    "#Another way to put strings together in one line (Concatanating Strings)\n",
    "print(\"\")\n",
    "print(\"I am Iron Man3.\" + \" No, I am Tony Stark3.\" + \" No, I am Poppy3.\")\n",
    "\n",
    "#Another way to put strings together but on seperate lines between sentences \\n\n",
    "print(\"\")\n",
    "print(\"I am Iron Man4\\n\" + \"No, I am Tony Stark4.\\n\" + \"No, I am Poppy4.\\n\")\n",
    "\n",
    "#Another function with strings but multiplying its print\n",
    "print(\"\")\n",
    "print(\"No, I am Poppy5.\\n\" * 4)\n",
    "\n"
   ]
  },
  {
   "cell_type": "markdown",
   "metadata": {},
   "source": [
    "LESSON 2 Variables & Input functions"
   ]
  },
  {
   "cell_type": "code",
   "execution_count": null,
   "metadata": {},
   "outputs": [],
   "source": [
    "#Lets build a robot barista\n",
    "\n",
    "print(\"Hello, welcome to network Josue Coffee!!!\")\n",
    "# Use Input to accept any info from user\n",
    "Cusname = input(\"What is your name?\\n\")\n",
    "\n",
    "# This is where a variable comes into play\n",
    "OwnerName = \"Josue\"\n",
    "print(\"This is a variable!! \" + OwnerName)\n",
    "# This is an example of a variable\n",
    "\n",
    "Order = input(\"Hello, \" + Cusname + \" what would you like to order?\")\n",
    "\n",
    "print(\"One \"+ Order + \" coming right up!!\")\n",
    "\n"
   ]
  }
 ],
 "metadata": {
  "kernelspec": {
   "display_name": "Python 3",
   "language": "python",
   "name": "python3"
  },
  "language_info": {
   "codemirror_mode": {
    "name": "ipython",
    "version": 3
   },
   "file_extension": ".py",
   "mimetype": "text/x-python",
   "name": "python",
   "nbconvert_exporter": "python",
   "pygments_lexer": "ipython3",
   "version": "3.12.7"
  }
 },
 "nbformat": 4,
 "nbformat_minor": 2
}
