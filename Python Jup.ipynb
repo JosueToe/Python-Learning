{
 "cells": [
  {
   "cell_type": "markdown",
   "metadata": {},
   "source": [
    "# Josue Toledo Note Book For Python"
   ]
  },
  {
   "cell_type": "markdown",
   "metadata": {},
   "source": [
    "LESSON 1 Printing, concatanation and multi line printing"
   ]
  },
  {
   "cell_type": "code",
   "execution_count": null,
   "metadata": {},
   "outputs": [],
   "source": [
    "#print(\"Hello World!!!!!!!!!!\")\n",
    "print(\"I am Iron Man1\")\n",
    "print(\"No, I am Tony Stark1\")\n",
    "print(\"No, I am Poppy1\")\n",
    "# We are running python Strings/Print Function\n",
    "\n",
    "#To have a multi line string use three \"\"\"\n",
    "print(\"\"\"\n",
    "I am Iron Man2.\n",
    "No, I am Tony Stark2.\n",
    "No, I am Poppy2.\"\"\")\n",
    "\n",
    "#Another way to put strings together in one line (Concatanating Strings)\n",
    "print(\"\")\n",
    "print(\"I am Iron Man3.\" + \" No, I am Tony Stark3.\" + \" No, I am Poppy3.\")\n",
    "\n",
    "#Another way to put strings together but on seperate lines between sentences \\n\n",
    "print(\"\")\n",
    "print(\"I am Iron Man4\\n\" + \"No, I am Tony Stark4.\\n\" + \"No, I am Poppy4.\\n\")\n",
    "\n",
    "#Another function with strings but multiplying its print\n",
    "print(\"\")\n",
    "print(\"No, I am Poppy5.\\n\" * 4)\n",
    "\n"
   ]
  },
  {
   "cell_type": "markdown",
   "metadata": {},
   "source": [
    "LESSON 2 Variables & Input functions"
   ]
  },
  {
   "cell_type": "code",
   "execution_count": null,
   "metadata": {},
   "outputs": [],
   "source": [
    "#Lets build a robot barista\n",
    "\n",
    "print(\"Hello, welcome to network Josue Coffee!!!\")\n",
    "# Use Input to accept any info from user\n",
    "Cusname = input(\"What is your name?\\n\")\n",
    "\n",
    "# This is where a variable comes into play\n",
    "OwnerName = \"Josue\"\n",
    "print(\"This is a variable!! \" + OwnerName)\n",
    "# This is an example of a variable\n",
    "\n",
    "Order = input(\"Hello, \" + Cusname + \" what would you like to order?\")\n",
    "\n",
    "print(\"One \"+ Order + \" coming right up!!\")\n",
    "\n"
   ]
  },
  {
   "cell_type": "markdown",
   "metadata": {},
   "source": [
    "Lesson 3 Python Functions"
   ]
  },
  {
   "cell_type": "code",
   "execution_count": null,
   "metadata": {},
   "outputs": [],
   "source": [
    "# Creating your own function\n",
    "def greet ():\n",
    "    print(\"Hi There\")\n",
    "    print(\"Welcome Aboard\")\n",
    "\n",
    "greet()\n",
    "print(\"----------------Part 1----------------\\n\")\n",
    "\n",
    "\n",
    "# Creating your own Function with Parameters. \n",
    "# ***Keep in mind parameters are what you want in the function in this case first_name, last_name, arguments are what you put in the function in this case its my name \"Josue\", \"Toledo\"***\n",
    "def greet1 (first_name, last_name):\n",
    "    print(f\"Hi {first_name} {last_name} hope all is well!\")\n",
    "    print(\"Welcome Aboard\")\n",
    "\n",
    "greet1(\"Josue\", \"Toledo\")\n",
    "greet1(\"Geo\", \"Toledo\")\n",
    "print(\"----------------Part 2----------------\\n\")\n",
    "\n",
    "\n",
    "# Diffrent types of Functions two types 1. Perform a task 2. Return a Value (use f followed by quotations to print for functions as seen below)\n",
    "def greet2 (name):\n",
    "    print(f\"Hi {name}\")\n",
    "greet2(\"Josue Toledo\\n\")\n",
    "\n",
    "round(1.9) # Example of a Perform a task function\n",
    "\n",
    "# Example of a function using return a value\n",
    "def get_greeting(name1):\n",
    "    return f\"This is a {name1}\"\n",
    "message = get_greeting(\"Return Value Test\") # \"Return Value Test\" is stored in the variable (\"message\").\n",
    "# This allows us to give the return info into a variable we can re-use it many diffrent ways\n",
    "# It simply returns a value and does not print anything (Now if we call message in a print function we can print this information)\n",
    "print(message)\n",
    "print(\"----------------Part 2 Expanded----------------\\n\")\n",
    "\n",
    "# Creating another function that we define(def) \n",
    "def increment(number, by):\n",
    "    return number + by\n",
    "result = increment (2, 1)\n",
    "print(f\"This is what our return increment gives us: {result}\") # Part A on how to print function information from variable if texts wants to be included.\n",
    "\n",
    "def increment1(number, by):\n",
    "    return number + by\n",
    "print(f\"This is what our return increment gives us: {increment1 (2, 3)} \") # This is how you print the function with or without the variable if you want to include text.\n",
    "# We can sometimes simplify the reading of the code by adding keyword arguments \n",
    "print(increment1 (2, by=2)) # You can also print like this but you cant add text if not you will recieve error. \n",
    "# If you read it you can easily understand whats going on and what the arguments within increment are refering to.\n",
    "\n",
    "print(\"----------------Part 3----------------\\n\")\n",
    "# In this part were going to learn how to make a parameter optional \n",
    "def increment1(number, by=1): # We've made it optional by assigning it it's value already.\n",
    "    return number + by\n",
    "print(increment1 (2)) # This will print out 3!!\n",
    "# Always remeber that when making an optional parameter it must always go last if not youll run into errors. (REQUIRED PARAMETERS FIRST, OPTIONAL LAST!!)\n",
    "\n",
    "print(\"----------------Part 4----------------\\n\")\n",
    "# Now we are going into numbers in our parameters and arguments\n",
    "def multiply(x, y):\n",
    "    return x * y\n",
    "multiply(2,3) \n",
    "# Here we can see that we will be multiplying 2 by 3 but what if i wanted to do more than x,y in my argument without adding more parameters.\n",
    "def multiply(*numbers): # When you do this it creates a collection of objects, we can now itterate through them.\n",
    "    total = 1 # Creating a variable total that is equal to 1\n",
    "    for number in numbers:\n",
    "        total *= number # Total = 1 so total will be at first 1 times 2 which then changes total = 2 and we then multiply 2 times 3, then 6 times 4 and so on\n",
    "    return total # Remeber indentation is important \n",
    "print(multiply(2,3,4,5))\n",
    "# What we made was a for loop that for each number within out parameters it will go through them(iterate) and multiply with total allowing us to recieve our solution/conclusion \n",
    "print(\"----------------Part 4 Expanded----------------\\n\")\n",
    "# When we use double astrisks we can use multiple keyword arguments and Python will automatically put it in a Dictionary(Future lessons on that)\n",
    "def save_user(**user):\n",
    "    print(user[\"name\"]) # This is how we would print this type of function\n",
    "\n",
    "save_user(ID=1, name=\"John\", age=22)\n",
    "\n",
    "\n",
    "\n"
   ]
  },
  {
   "cell_type": "markdown",
   "metadata": {},
   "source": [
    "Lesson 3 Python Functions Continued"
   ]
  },
  {
   "cell_type": "code",
   "execution_count": 65,
   "metadata": {},
   "outputs": [
    {
     "name": "stdout",
     "output_type": "stream",
     "text": [
      "----------------Part 5----------------\n",
      "\n",
      "Global variable before any function call/change: a\n",
      "Local function variable message no change to global = b\n",
      "Global variable message change through local function = c\n",
      "----------------Part 6----------------\n",
      "\n"
     ]
    }
   ],
   "source": [
    "print(\"----------------Part 5----------------\\n\")\n",
    "# Bad practice to do this\n",
    "# Global variable\n",
    "message = \"a\"  # Global variable\n",
    "print(f\"Global variable before any function call/change: {message}\")\n",
    "\n",
    "# Function that uses a local variable\n",
    "def greet(name):\n",
    "    message = \"b\"  # Local variable inside the function\n",
    "    print(f\"Local function variable message no change to global = {message}\")\n",
    "\n",
    "# Call greet() function (local variable won't affect global variable)\n",
    "greet(\"John\")\n",
    "\n",
    "# Function that modifies the global variable\n",
    "def greet1(name):\n",
    "    global message  # Declare the use of global variable\n",
    "    message = \"c\"  # Modify the global variable\n",
    "    print(f\"Global variable message change through local function = {message}\")\n",
    "\n",
    "# Call greet1() function (this will modify the global variable)\n",
    "greet1(\"Test\")\n",
    "\n",
    "print(\"----------------Part 6----------------\\n\")\n",
    "def fizz_buzz(input):\n",
    "\n",
    "\n",
    "\n",
    "    \n",
    "    print(fizz_buzz(3))\n",
    "    \n"
   ]
  }
 ],
 "metadata": {
  "kernelspec": {
   "display_name": "Python 3",
   "language": "python",
   "name": "python3"
  },
  "language_info": {
   "codemirror_mode": {
    "name": "ipython",
    "version": 3
   },
   "file_extension": ".py",
   "mimetype": "text/x-python",
   "name": "python",
   "nbconvert_exporter": "python",
   "pygments_lexer": "ipython3",
   "version": "3.12.7"
  }
 },
 "nbformat": 4,
 "nbformat_minor": 2
}
